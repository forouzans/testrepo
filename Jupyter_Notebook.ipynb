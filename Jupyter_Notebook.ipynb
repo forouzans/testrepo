{
  "metadata": {
    "kernelspec": {
      "name": "python",
      "display_name": "Pyolite",
      "language": "python"
    },
    "language_info": {
      "codemirror_mode": {
        "name": "python",
        "version": 3
      },
      "file_extension": ".py",
      "mimetype": "text/x-python",
      "name": "python",
      "nbconvert_exporter": "python",
      "pygments_lexer": "ipython3",
      "version": "3.8"
    }
  },
  "nbformat_minor": 4,
  "nbformat": 4,
  "cells": [
    {
      "cell_type": "markdown",
      "source": "<center>\n    <img src=\"https://s3-api.us-geo.objectstorage.softlayer.net/cf-courses-data/CognitiveClass/Logos/organization_logo/organization_logo.png\" width=\"300\" alt=\"cognitiveclass.ai logo\"  />\n</center>\n",
      "metadata": {}
    },
    {
      "cell_type": "markdown",
      "source": "<h1>My Jupyter Notebook on IBM Watson Studio<h1>\n    ",
      "metadata": {}
    },
    {
      "cell_type": "markdown",
      "source": "<strong>Forouzan Sepahvand</strong>\n<br>\nData Scientist",
      "metadata": {}
    },
    {
      "cell_type": "markdown",
      "source": "<i>I'm intrested in data science because I get to explore insights from data to use in business, seek market opportunities and solve business problems.</i>",
      "metadata": {}
    },
    {
      "cell_type": "markdown",
      "source": "<h3>This code will replace a character in a string<h3>",
      "metadata": {}
    },
    {
      "cell_type": "code",
      "source": "string = \"One Two Three\" \nrpl_string=string.replace(\"One\", \"Four\")\nprint(rpl_string) ",
      "metadata": {
        "trusted": true
      },
      "execution_count": 5,
      "outputs": [
        {
          "name": "stdout",
          "text": "Four Two Three\n",
          "output_type": "stream"
        }
      ]
    },
    {
      "cell_type": "markdown",
      "source": "<ul>\n  <li>One</li>\n  <li>Two</li>\n  <li>Three</li>\n</ul>\n\n<br>\n\n<ol>\n  <li>One</li>\n  <li>Two</li>\n  <li>Three</li>\n</ol>\n\n<br>\n\n<table style=\"width:50%; border:1px solid black;\">\n    <tr><th>Date</th>\n    <th>TransactionID</th>\n<th>CustomerID</th>\n    </tr>\n<tr>\n    <td>2022-09-06</td>\n    <td>135267</td>\n    <td>12345</td>\n    </tr>\n</table>\n\n<br>\n\n <a href=\"https://www.coursera.org/\">Visit Coursera website!</a>",
      "metadata": {}
    }
  ]
}